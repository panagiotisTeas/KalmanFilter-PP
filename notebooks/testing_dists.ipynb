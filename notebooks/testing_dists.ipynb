{
 "cells": [
  {
   "cell_type": "code",
   "execution_count": null,
   "id": "d15d8a16",
   "metadata": {},
   "outputs": [],
   "source": [
    "import sys\n",
    "import os\n",
    "\n",
    "sys.path.append(os.path.abspath(os.path.join(os.getcwd(), '..')))\n",
    "\n",
    "import pandas as pd\n",
    "\n",
    "from kalman_filter_pp.dists import plot_residual_distribution, plot_pull_distribution\n",
    "from kalman_filter_pp.config import KALMAN_FILTER_EXPORT_PATH"
   ]
  },
  {
   "cell_type": "code",
   "execution_count": null,
   "id": "6610384a",
   "metadata": {},
   "outputs": [],
   "source": [
    "plot_residual_distribution(pd.read_csv(KALMAN_FILTER_EXPORT_PATH))\n",
    "plot_pull_distribution(pd.read_csv(KALMAN_FILTER_EXPORT_PATH))"
   ]
  }
 ],
 "metadata": {
  "kernelspec": {
   "display_name": "KF-PP",
   "language": "python",
   "name": "python3"
  },
  "language_info": {
   "codemirror_mode": {
    "name": "ipython",
    "version": 3
   },
   "file_extension": ".py",
   "mimetype": "text/x-python",
   "name": "python",
   "nbconvert_exporter": "python",
   "pygments_lexer": "ipython3",
   "version": "3.13.5"
  }
 },
 "nbformat": 4,
 "nbformat_minor": 5
}
