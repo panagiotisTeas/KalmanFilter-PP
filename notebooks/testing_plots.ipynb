{
 "cells": [
  {
   "cell_type": "code",
   "execution_count": null,
   "id": "04bedc38",
   "metadata": {},
   "outputs": [],
   "source": [
    "import sys\n",
    "import os\n",
    "\n",
    "sys.path.append(os.path.abspath(os.path.join(os.getcwd(), '..')))\n",
    "\n",
    "import numpy as np\n",
    "import pandas as pd\n",
    "from tqdm import tqdm\n",
    "import matplotlib.pyplot as plt\n",
    "\n",
    "from kalman_filter_pp.plots import detector_xy_projection, detector_rz_projection, particle_xy_projection_byId,\\\n",
    "    particle_rz_projection_byId, particle_xy_projection_byEvents, particle_rz_projection_byEvents,\\\n",
    "    helix_xy_trajectory, helix_rz_trajectory\n",
    "\n",
    "from kalman_filter_pp.helix import Helix, helix_seeding"
   ]
  },
  {
   "cell_type": "code",
   "execution_count": null,
   "id": "6734d6d8",
   "metadata": {},
   "outputs": [],
   "source": [
    "fig, ax = plt.subplots(figsize=(10, 8))\n",
    "detector_xy_projection(ax)\n",
    "particle_xy_projection_byId(ax, \"event000001000.csv\", [4503668346847232, 4503737066323968, 4505317614288896], rand_color=True)\n",
    "ax.axis(\"auto\")\n",
    "plt.show()\n"
   ]
  },
  {
   "cell_type": "code",
   "execution_count": null,
   "id": "79ab3616",
   "metadata": {},
   "outputs": [],
   "source": [
    "fig, ax = plt.subplots(figsize=(10, 8))\n",
    "detector_rz_projection(ax)\n",
    "particle_rz_projection_byId(ax, \"event000001000.csv\", [4503668346847232, 4503737066323968, 4505317614288896], rand_color=True)\n",
    "ax.axis(\"auto\")\n",
    "plt.show()"
   ]
  },
  {
   "cell_type": "code",
   "execution_count": null,
   "id": "a2381292",
   "metadata": {},
   "outputs": [],
   "source": [
    "fig, ax = plt.subplots(figsize=(10, 8))\n",
    "detector_xy_projection(ax)\n",
    "particle_xy_projection_byEvents(ax, \"event000001000.csv\", momentum_cutoff=10, rand_color=True)\n",
    "ax.axis(\"auto\")\n",
    "plt.show()"
   ]
  },
  {
   "cell_type": "code",
   "execution_count": null,
   "id": "26f02746",
   "metadata": {},
   "outputs": [],
   "source": [
    "fig, ax = plt.subplots(figsize=(10, 8))\n",
    "detector_rz_projection(ax)\n",
    "particle_rz_projection_byEvents(ax, \"event000001000.csv\", momentum_cutoff=10, rand_color=True)\n",
    "ax.axis(\"auto\")\n",
    "plt.show()"
   ]
  },
  {
   "cell_type": "code",
   "execution_count": null,
   "id": "3f317634",
   "metadata": {},
   "outputs": [],
   "source": [
    "fig, ax = plt.subplots(figsize=(10, 8))\n",
    "\n",
    "detector_rz_projection(ax)\n",
    "\n",
    "df = pd.read_csv(\"../data/processed/event000001000.csv\")\n",
    "\n",
    "for index, row in tqdm(df.iterrows()):\n",
    "    if row['hit_id'] != -1:\n",
    "        continue\n",
    "\n",
    "    momentum = np.array([row['tpx'], row['tpy'], row['tpz']])\n",
    "    \n",
    "    if np.linalg.norm(momentum) > 2.1 or np.linalg.norm(momentum) < 1.9:\n",
    "        continue\n",
    "\n",
    "    position = np.array([row['x'], row['y'], row['z']])\n",
    "\n",
    "    magnetic_field = 2\n",
    "    charge = row['q']\n",
    "\n",
    "    helix = Helix(helix_seeding, position, momentum, magnetic_field, charge)\n",
    "    helix_rz_trajectory(ax, helix, rand_color=True)\n",
    "\n",
    "ax.axis(\"auto\")\n",
    "plt.show()"
   ]
  },
  {
   "cell_type": "code",
   "execution_count": null,
   "id": "190c77ce",
   "metadata": {},
   "outputs": [],
   "source": [
    "fig, ax = plt.subplots(figsize=(10, 8))\n",
    "\n",
    "detector_xy_projection(ax)\n",
    "\n",
    "df = pd.read_csv(\"../data/processed/event000001000.csv\")\n",
    "\n",
    "for index, row in tqdm(df.iterrows()):\n",
    "    if row['hit_id'] != -1:\n",
    "        continue\n",
    "\n",
    "    momentum = np.array([row['tpx'], row['tpy'], row['tpz']])\n",
    "    \n",
    "    if np.linalg.norm(momentum) > 2.1 or np.linalg.norm(momentum) < 1.9:\n",
    "        continue\n",
    "\n",
    "    position = np.array([row['x'], row['y'], row['z']])\n",
    "\n",
    "    magnetic_field = 2\n",
    "    charge = row['q']\n",
    "\n",
    "    helix = Helix(helix_seeding, position, momentum, magnetic_field, charge)\n",
    "    helix_xy_trajectory(ax, helix, rand_color=True)\n",
    "\n",
    "ax.axis(\"auto\")\n",
    "plt.show()"
   ]
  }
 ],
 "metadata": {
  "kernelspec": {
   "display_name": "KF-PP",
   "language": "python",
   "name": "python3"
  },
  "language_info": {
   "codemirror_mode": {
    "name": "ipython",
    "version": 3
   },
   "file_extension": ".py",
   "mimetype": "text/x-python",
   "name": "python",
   "nbconvert_exporter": "python",
   "pygments_lexer": "ipython3",
   "version": "3.13.5"
  }
 },
 "nbformat": 4,
 "nbformat_minor": 5
}
