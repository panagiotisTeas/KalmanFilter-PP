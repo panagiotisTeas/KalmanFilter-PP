{
 "cells": [
  {
   "cell_type": "code",
   "execution_count": null,
   "id": "d19d1eea",
   "metadata": {},
   "outputs": [],
   "source": [
    "import os\n",
    "import sys\n",
    "\n",
    "import numpy as np\n",
    "import pandas as pd\n",
    "import logging\n",
    "\n",
    "sys.path.append(os.path.abspath(os.path.join(os.getcwd(), '..')))\n",
    "\n",
    "from kalman_filter_pp.algorithms import linear_kalman_algorithm\n",
    "from kalman_filter_pp.logger import set_log_level\n",
    "from kalman_filter_pp.config import BASE_DIR"
   ]
  },
  {
   "cell_type": "code",
   "execution_count": null,
   "id": "beb82ec3",
   "metadata": {},
   "outputs": [],
   "source": [
    "set_log_level(logging.INFO)\n",
    "\n",
    "linear_kalman_algorithm(event_start=1000, event_end=1001, output=os.path.join(BASE_DIR, \"output/logs/kalman_test.csv\"))"
   ]
  }
 ],
 "metadata": {
  "kernelspec": {
   "display_name": "KF-PP",
   "language": "python",
   "name": "python3"
  },
  "language_info": {
   "codemirror_mode": {
    "name": "ipython",
    "version": 3
   },
   "file_extension": ".py",
   "mimetype": "text/x-python",
   "name": "python",
   "nbconvert_exporter": "python",
   "pygments_lexer": "ipython3",
   "version": "3.13.5"
  }
 },
 "nbformat": 4,
 "nbformat_minor": 5
}
