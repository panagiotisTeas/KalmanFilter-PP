{
 "cells": [
  {
   "cell_type": "code",
   "execution_count": null,
   "id": "e4c8f41d",
   "metadata": {},
   "outputs": [],
   "source": [
    "import sys\n",
    "import os\n",
    "\n",
    "sys.path.append(os.path.abspath(os.path.join(os.getcwd(), '..')))\n",
    "\n",
    "import pandas as pd\n",
    "\n",
    "from kalman_filter_pp.evos import plot_column_evolution, plot_fit_parameter_evolution\n",
    "from kalman_filter_pp.config import KALMAN_FILTER_EXPORT_PATH"
   ]
  },
  {
   "cell_type": "code",
   "execution_count": null,
   "id": "faafeb3c",
   "metadata": {},
   "outputs": [],
   "source": [
    "plot_fit_parameter_evolution(pd.read_csv(KALMAN_FILTER_EXPORT_PATH), 1000, 4507516637544448)\n",
    "plot_column_evolution(pd.read_csv(KALMAN_FILTER_EXPORT_PATH), 1000, 4507516637544448, \"P00\")\n",
    "plot_column_evolution(pd.read_csv(KALMAN_FILTER_EXPORT_PATH), 1000, 4507516637544448, \"P11\")\n",
    "plot_column_evolution(pd.read_csv(KALMAN_FILTER_EXPORT_PATH), 1000, 4507516637544448, \"P22\")\n",
    "plot_column_evolution(pd.read_csv(KALMAN_FILTER_EXPORT_PATH), 1000, 4507516637544448, \"P33\")\n",
    "plot_column_evolution(pd.read_csv(KALMAN_FILTER_EXPORT_PATH), 1000, 4507516637544448, \"P44\")\n",
    "plot_column_evolution(pd.read_csv(KALMAN_FILTER_EXPORT_PATH), 1000, 4507516637544448, \"P01\")\n",
    "plot_column_evolution(pd.read_csv(KALMAN_FILTER_EXPORT_PATH), 1000, 4507516637544448, \"P02\")\n",
    "plot_column_evolution(pd.read_csv(KALMAN_FILTER_EXPORT_PATH), 1000, 4507516637544448, \"P12\")\n",
    "plot_column_evolution(pd.read_csv(KALMAN_FILTER_EXPORT_PATH), 1000, 4507516637544448, \"P34\")\n",
    "plot_column_evolution(pd.read_csv(KALMAN_FILTER_EXPORT_PATH), 1000, 4507516637544448, \"K00\")\n",
    "plot_column_evolution(pd.read_csv(KALMAN_FILTER_EXPORT_PATH), 1000, 4507516637544448, \"K10\")\n",
    "plot_column_evolution(pd.read_csv(KALMAN_FILTER_EXPORT_PATH), 1000, 4507516637544448, \"K20\")\n",
    "plot_column_evolution(pd.read_csv(KALMAN_FILTER_EXPORT_PATH), 1000, 4507516637544448, \"K31\")\n",
    "plot_column_evolution(pd.read_csv(KALMAN_FILTER_EXPORT_PATH), 1000, 4507516637544448, \"K41\")"
   ]
  }
 ],
 "metadata": {
  "kernelspec": {
   "display_name": "KF-PP",
   "language": "python",
   "name": "python3"
  },
  "language_info": {
   "codemirror_mode": {
    "name": "ipython",
    "version": 3
   },
   "file_extension": ".py",
   "mimetype": "text/x-python",
   "name": "python",
   "nbconvert_exporter": "python",
   "pygments_lexer": "ipython3",
   "version": "3.13.5"
  }
 },
 "nbformat": 4,
 "nbformat_minor": 5
}
